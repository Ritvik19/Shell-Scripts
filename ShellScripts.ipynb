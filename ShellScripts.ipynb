{
 "cells": [
  {
   "cell_type": "markdown",
   "metadata": {},
   "source": [
    "**Head**"
   ]
  },
  {
   "cell_type": "code",
   "execution_count": 1,
   "metadata": {
    "ExecuteTime": {
     "end_time": "2020-03-01T06:13:47.695320Z",
     "start_time": "2020-03-01T06:13:40.868634Z"
    }
   },
   "outputs": [
    {
     "name": "stdout",
     "output_type": "stream",
     "text": [
      "PassengerId\tSurvived\tPclass\tName\tSex\tAge\tSibSp\tParch\tTicket\tFare\tCabin\tEmbarked\r\n",
      "1\t0\t3\t\"Braund\t Mr. Owen Harris\"\tmale\t22\t1\t0\tA/5 21171\t7.25\t\tS\r\n",
      "2\t1\t1\t\"Cumings\t Mrs. John Bradley (Florence Briggs Thayer)\"\tfemale\t38\t1\t0\tPC 17599\t71.2833\tC85\tC\r\n",
      "3\t1\t3\t\"Heikkinen\t Miss. Laina\"\tfemale\t26\t0\t0\tSTON/O2. 3101282\t7.925\t\tS\r\n",
      "4\t1\t1\t\"Futrelle\t Mrs. Jacques Heath (Lily May Peel)\"\tfemale\t35\t1\t0\t113803\t53.1\tC123\tS\r\n",
      "5\t0\t3\t\"Allen\t Mr. William Henry\"\tmale\t35\t0\t0\t373450\t8.05\t\tS\r\n"
     ]
    }
   ],
   "source": [
    "%%bash\n",
    "\n",
    "N_ROWS=5\n",
    "N_ROWS=$((N_ROWS+1))\n",
    "FILE_PATH=titanic.csv\n",
    "head -n $N_ROWS $FILE_PATH | tr ',' '\\t'"
   ]
  },
  {
   "cell_type": "markdown",
   "metadata": {},
   "source": [
    "**Tail**"
   ]
  },
  {
   "cell_type": "code",
   "execution_count": 2,
   "metadata": {
    "ExecuteTime": {
     "end_time": "2020-03-01T06:13:48.184370Z",
     "start_time": "2020-03-01T06:13:47.702516Z"
    }
   },
   "outputs": [
    {
     "name": "stdout",
     "output_type": "stream",
     "text": [
      "PassengerId\tSurvived\tPclass\tName\tSex\tAge\tSibSp\tParch\tTicket\tFare\tCabin\tEmbarked\r\n",
      "887\t0\t2\t\"Montvila\t Rev. Juozas\"\tmale\t27\t0\t0\t211536\t13\t\tS\r\n",
      "888\t1\t1\t\"Graham\t Miss. Margaret Edith\"\tfemale\t19\t0\t0\t112053\t30\tB42\tS\r\n",
      "889\t0\t3\t\"Johnston\t Miss. Catherine Helen \"\"Carrie\"\"\"\tfemale\t\t1\t2\tW./C. 6607\t23.45\t\tS\r\n",
      "890\t1\t1\t\"Behr\t Mr. Karl Howell\"\tmale\t26\t0\t0\t111369\t30\tC148\tC\r\n",
      "891\t0\t3\t\"Dooley\t Mr. Patrick\"\tmale\t32\t0\t0\t370376\t7.75\t\tQ\r\n"
     ]
    }
   ],
   "source": [
    "%%bash\n",
    "\n",
    "N_ROWS=5\n",
    "FILE_PATH=titanic.csv\n",
    "head -n 1 $FILE_PATH | tr ',' '\\t'\n",
    "tail -n $N_ROWS $FILE_PATH | tr ',' '\\t'"
   ]
  },
  {
   "cell_type": "markdown",
   "metadata": {},
   "source": [
    "**Columns**"
   ]
  },
  {
   "cell_type": "code",
   "execution_count": 3,
   "metadata": {
    "ExecuteTime": {
     "end_time": "2020-03-01T06:13:48.655134Z",
     "start_time": "2020-03-01T06:13:48.188410Z"
    }
   },
   "outputs": [
    {
     "name": "stdout",
     "output_type": "stream",
     "text": [
      "     1\tPassengerId\n",
      "     2\tSurvived\n",
      "     3\tPclass\n",
      "     4\tName\n",
      "     5\tSex\n",
      "     6\tAge\n",
      "     7\tSibSp\n",
      "     8\tParch\n",
      "     9\tTicket\n",
      "    10\tFare\n",
      "    11\tCabin\n",
      "    12\tEmbarked\r\n"
     ]
    }
   ],
   "source": [
    "%%bash\n",
    "\n",
    "FILE_PATH=titanic.csv\n",
    "head -n 1 $FILE_PATH | tr ',' '\\n' | cat -s -n"
   ]
  },
  {
   "cell_type": "markdown",
   "metadata": {},
   "source": [
    "**Unique Values of a Column**"
   ]
  },
  {
   "cell_type": "code",
   "execution_count": 4,
   "metadata": {
    "ExecuteTime": {
     "end_time": "2020-03-01T06:13:49.118892Z",
     "start_time": "2020-03-01T06:13:48.666183Z"
    }
   },
   "outputs": [
    {
     "name": "stdout",
     "output_type": "stream",
     "text": [
      "Survived\n",
      "0\n",
      "1\n"
     ]
    }
   ],
   "source": [
    "%%bash\n",
    "\n",
    "FILE_PATH=titanic.csv\n",
    "COL=2\n",
    "cut -d ',' -f $COL $FILE_PATH | head -n 1\n",
    "cut -d ',' -f $COL $FILE_PATH | tail -n +2 | sort | uniq"
   ]
  },
  {
   "cell_type": "markdown",
   "metadata": {},
   "source": [
    "**Value Counts**"
   ]
  },
  {
   "cell_type": "code",
   "execution_count": 5,
   "metadata": {
    "ExecuteTime": {
     "end_time": "2020-03-01T06:13:49.484912Z",
     "start_time": "2020-03-01T06:13:49.122882Z"
    }
   },
   "outputs": [
    {
     "name": "stdout",
     "output_type": "stream",
     "text": [
      "Survived\n",
      "    342 1\n",
      "    549 0\n"
     ]
    }
   ],
   "source": [
    "%%bash\n",
    "\n",
    "FILE_PATH=titanic.csv\n",
    "COL=2\n",
    "cut -d ',' -f $COL $FILE_PATH | head -n 1\n",
    "cut -d ',' -f $COL $FILE_PATH | tail -n +2 | sort | uniq -c | sort -n"
   ]
  },
  {
   "cell_type": "code",
   "execution_count": null,
   "metadata": {},
   "outputs": [],
   "source": []
  }
 ],
 "metadata": {
  "kernelspec": {
   "display_name": "Python 3",
   "language": "python",
   "name": "python3"
  },
  "language_info": {
   "codemirror_mode": {
    "name": "ipython",
    "version": 3
   },
   "file_extension": ".py",
   "mimetype": "text/x-python",
   "name": "python",
   "nbconvert_exporter": "python",
   "pygments_lexer": "ipython3",
   "version": "3.7.3"
  },
  "toc": {
   "base_numbering": 1,
   "nav_menu": {},
   "number_sections": true,
   "sideBar": true,
   "skip_h1_title": false,
   "title_cell": "Table of Contents",
   "title_sidebar": "Contents",
   "toc_cell": false,
   "toc_position": {},
   "toc_section_display": true,
   "toc_window_display": false
  },
  "varInspector": {
   "cols": {
    "lenName": 16,
    "lenType": 16,
    "lenVar": 40
   },
   "kernels_config": {
    "python": {
     "delete_cmd_postfix": "",
     "delete_cmd_prefix": "del ",
     "library": "var_list.py",
     "varRefreshCmd": "print(var_dic_list())"
    },
    "r": {
     "delete_cmd_postfix": ") ",
     "delete_cmd_prefix": "rm(",
     "library": "var_list.r",
     "varRefreshCmd": "cat(var_dic_list()) "
    }
   },
   "types_to_exclude": [
    "module",
    "function",
    "builtin_function_or_method",
    "instance",
    "_Feature"
   ],
   "window_display": false
  }
 },
 "nbformat": 4,
 "nbformat_minor": 2
}
